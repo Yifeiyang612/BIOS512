{
 "cells": [
  {
   "cell_type": "markdown",
   "metadata": {},
   "source": [
    "# BIOS512 Final project #"
   ]
  },
  {
   "cell_type": "markdown",
   "metadata": {},
   "source": [
    "This assignment will be submitted via GitHub. Once complete, download your notebook and upload it to your GitHub repository for the class.\n",
    "\n",
    "*Note:*\n",
    "- To download a notebook with Jupyter Lab, right click on the notebook in the sidebar file browser on the left and select `Download`.\n",
    "- To download a notebook in the Jupter Notebook interface, click `File > Download As > Notebook (.ipynb)`.\n",
    "\n"
   ]
  },
  {
   "cell_type": "markdown",
   "metadata": {},
   "source": [
    "Import the `tidyverse` into your R session."
   ]
  },
  {
   "cell_type": "code",
   "execution_count": 1,
   "metadata": {
    "scrolled": true
   },
   "outputs": [
    {
     "name": "stderr",
     "output_type": "stream",
     "text": [
      "Warning message:\n",
      "“replacing previous import ‘vctrs::data_frame’ by ‘tibble::data_frame’ when loading ‘dplyr’”\n",
      "── \u001b[1mAttaching packages\u001b[22m ─────────────────────────────────────── tidyverse 1.3.0 ──\n",
      "\n",
      "\u001b[32m✔\u001b[39m \u001b[34mggplot2\u001b[39m 3.3.2     \u001b[32m✔\u001b[39m \u001b[34mpurrr  \u001b[39m 0.3.4\n",
      "\u001b[32m✔\u001b[39m \u001b[34mtibble \u001b[39m 3.0.4     \u001b[32m✔\u001b[39m \u001b[34mdplyr  \u001b[39m 1.0.1\n",
      "\u001b[32m✔\u001b[39m \u001b[34mtidyr  \u001b[39m 1.1.1     \u001b[32m✔\u001b[39m \u001b[34mstringr\u001b[39m 1.4.0\n",
      "\u001b[32m✔\u001b[39m \u001b[34mreadr  \u001b[39m 1.3.1     \u001b[32m✔\u001b[39m \u001b[34mforcats\u001b[39m 0.5.0\n",
      "\n",
      "Warning message:\n",
      "“package ‘ggplot2’ was built under R version 4.0.1”\n",
      "Warning message:\n",
      "“package ‘tidyr’ was built under R version 4.0.2”\n",
      "Warning message:\n",
      "“package ‘dplyr’ was built under R version 4.0.2”\n",
      "── \u001b[1mConflicts\u001b[22m ────────────────────────────────────────── tidyverse_conflicts() ──\n",
      "\u001b[31m✖\u001b[39m \u001b[34mdplyr\u001b[39m::\u001b[32mfilter()\u001b[39m masks \u001b[34mstats\u001b[39m::filter()\n",
      "\u001b[31m✖\u001b[39m \u001b[34mdplyr\u001b[39m::\u001b[32mlag()\u001b[39m    masks \u001b[34mstats\u001b[39m::lag()\n",
      "\n"
     ]
    }
   ],
   "source": [
    "library('tidyverse')\n",
    "library('ggplot2')\n",
    "library(\"dplyr\")"
   ]
  },
  {
   "cell_type": "markdown",
   "metadata": {},
   "source": [
    "**1. Import data (food_consumption dataset from tidytuesday)**"
   ]
  },
  {
   "cell_type": "code",
   "execution_count": 2,
   "metadata": {},
   "outputs": [
    {
     "name": "stderr",
     "output_type": "stream",
     "text": [
      "Parsed with column specification:\n",
      "cols(\n",
      "  country = \u001b[31mcol_character()\u001b[39m,\n",
      "  food_category = \u001b[31mcol_character()\u001b[39m,\n",
      "  consumption = \u001b[32mcol_double()\u001b[39m,\n",
      "  co2_emmission = \u001b[32mcol_double()\u001b[39m\n",
      ")\n",
      "\n"
     ]
    }
   ],
   "source": [
    "food <- read_csv(\"https://raw.githubusercontent.com/rfordatascience/tidytuesday/master/data/2020/2020-02-18/food_consumption.csv\")"
   ]
  },
  {
   "cell_type": "code",
   "execution_count": 3,
   "metadata": {},
   "outputs": [
    {
     "name": "stdout",
     "output_type": "stream",
     "text": [
      "\u001b[90m# A tibble: 1,430 x 4\u001b[39m\n",
      "   country   food_category            consumption co2_emmission\n",
      "   \u001b[3m\u001b[90m<chr>\u001b[39m\u001b[23m     \u001b[3m\u001b[90m<chr>\u001b[39m\u001b[23m                          \u001b[3m\u001b[90m<dbl>\u001b[39m\u001b[23m         \u001b[3m\u001b[90m<dbl>\u001b[39m\u001b[23m\n",
      "\u001b[90m 1\u001b[39m Argentina Pork                           10.5          37.2 \n",
      "\u001b[90m 2\u001b[39m Argentina Poultry                        38.7          41.5 \n",
      "\u001b[90m 3\u001b[39m Argentina Beef                           55.5        \u001b[4m1\u001b[24m712   \n",
      "\u001b[90m 4\u001b[39m Argentina Lamb & Goat                     1.56         54.6 \n",
      "\u001b[90m 5\u001b[39m Argentina Fish                            4.36          6.96\n",
      "\u001b[90m 6\u001b[39m Argentina Eggs                           11.4          10.5 \n",
      "\u001b[90m 7\u001b[39m Argentina Milk - inc. cheese            195.          278.  \n",
      "\u001b[90m 8\u001b[39m Argentina Wheat and Wheat Products      103.           19.7 \n",
      "\u001b[90m 9\u001b[39m Argentina Rice                            8.77         11.2 \n",
      "\u001b[90m10\u001b[39m Argentina Soybeans                        0             0   \n",
      "\u001b[90m# … with 1,420 more rows\u001b[39m\n"
     ]
    }
   ],
   "source": [
    "food %>% print"
   ]
  },
  {
   "cell_type": "markdown",
   "metadata": {},
   "source": [
    "**2. Data visualization**\n",
    "\n",
    "    2.1 Category of food consumption in each country"
   ]
  },
  {
   "cell_type": "code",
   "execution_count": null,
   "metadata": {},
   "outputs": [],
   "source": [
    "options(repr.plot.res = 300, repr.plot.width = 8, repr.plot.height = 4)\n",
    "\n",
    "p = ggplot(food, aes(y =consumption, x = food_category, fill =food_category )) +\n",
    "         geom_boxplot() +\n",
    "  coord_flip()\n",
    "\n",
    "p = p + labs(\n",
    "        title = \"Category of food consumption in each country\",\n",
    "        x = \"Food category\",\n",
    "        y = \"Consumption(kg/person/year)\"\n",
    ")\n",
    "\n",
    "p = p + theme(\n",
    "        plot.title = element_text(color = \"gray20\", face = \"bold\"),\n",
    "        plot.title.position = \"plot\",\n",
    "        title = element_text(size = 14), \n",
    "        plot.background = element_rect(fill = 'white'),\n",
    "        panel.background = element_rect(fill = 'white'),\n",
    "        strip.background = element_rect('white'),\n",
    "        strip.text.x = element_text(color = \"gray60\",face = \"bold\"),\n",
    "        axis.text = element_text(size = 9), \n",
    "        axis.text.x = element_text(color = \"gray20\"),\n",
    "        axis.text.y = element_text(color = \"gray20\"),\n",
    "        axis.line = element_line(linetype = \"solid\", color = \"gray20\"),\n",
    "        legend.position=\"right\", \n",
    "        panel.grid.major = element_line(linetype = \"solid\", color = \"gray80\"), \n",
    "        panel.grid.minor = element_line(linetype = \"solid\", color = \"gray80\"),\n",
    "        \n",
    ")\n",
    "\n",
    "p"
   ]
  },
  {
   "cell_type": "markdown",
   "metadata": {},
   "source": [
    "      2.2 Milk - inc. cheese consumption"
   ]
  },
  {
   "cell_type": "code",
   "execution_count": 37,
   "metadata": {},
   "outputs": [
    {
     "name": "stdout",
     "output_type": "stream",
     "text": [
      "\u001b[90m# A tibble: 102 x 4\u001b[39m\n",
      "\u001b[90m# Groups:   country, food_category, consumption [102]\u001b[39m\n",
      "   country     food_category      consumption     n\n",
      "   \u001b[3m\u001b[90m<chr>\u001b[39m\u001b[23m       \u001b[3m\u001b[90m<chr>\u001b[39m\u001b[23m                    \u001b[3m\u001b[90m<dbl>\u001b[39m\u001b[23m \u001b[3m\u001b[90m<int>\u001b[39m\u001b[23m\n",
      "\u001b[90m 1\u001b[39m Finland     Milk - inc. cheese        431.     1\n",
      "\u001b[90m 2\u001b[39m Netherlands Milk - inc. cheese        341.     1\n",
      "\u001b[90m 3\u001b[39m Sweden      Milk - inc. cheese        341.     1\n",
      "\u001b[90m 4\u001b[39m Switzerland Milk - inc. cheese        319.     1\n",
      "\u001b[90m 5\u001b[39m Albania     Milk - inc. cheese        304.     1\n",
      "\u001b[90m 6\u001b[39m Lithuania   Milk - inc. cheese        295.     1\n",
      "\u001b[90m 7\u001b[39m Ireland     Milk - inc. cheese        292.     1\n",
      "\u001b[90m 8\u001b[39m Kazakhstan  Milk - inc. cheese        288.     1\n",
      "\u001b[90m 9\u001b[39m Estonia     Milk - inc. cheese        285.     1\n",
      "\u001b[90m10\u001b[39m Denmark     Milk - inc. cheese        277.     1\n",
      "\u001b[90m# … with 92 more rows\u001b[39m\n"
     ]
    }
   ],
   "source": [
    "milk <- food %>%\n",
    "   filter(food_category %in% c('Milk - inc. cheese')) %>%\n",
    "   group_by(country, food_category, consumption) %>% \n",
    "   count() %>% \n",
    "   arrange(desc(consumption))%>%\n",
    "   filter(consumption >= 40)\n",
    "milk %>% print"
   ]
  },
  {
   "cell_type": "code",
   "execution_count": 10,
   "metadata": {},
   "outputs": [],
   "source": [
    "milk2 <- milk %>%\n",
    "   filter(consumption > 200)"
   ]
  },
  {
   "cell_type": "code",
   "execution_count": null,
   "metadata": {},
   "outputs": [],
   "source": [
    "options(repr.plot.res = 300, repr.plot.width = 8, repr.plot.height = 4)\n",
    "\n",
    "p = ggplot(milk2, aes(x= country, y = consumption, fill= country))\n",
    "\n",
    "p = p + geom_bar(stat='identity')\n",
    "\n",
    "p = p + coord_flip()\n",
    "\n",
    "p = p + labs(\n",
    "        title = \"Milk - inc. cheese consumption\",\n",
    "        x = \"Country\",\n",
    "        y = \"Consumption(kg/person/year)\"\n",
    ")\n",
    "\n",
    "p = p + theme(\n",
    "        plot.title = element_text(color = \"gray20\", face = \"bold\"),\n",
    "        plot.title.position = \"plot\",\n",
    "        title = element_text(size = 14), \n",
    "        plot.background = element_rect(fill = 'white'),\n",
    "        panel.background = element_rect(fill = 'white'),\n",
    "        strip.background = element_rect('white'),\n",
    "        strip.text.x = element_text(color = \"gray60\",face = \"bold\"),\n",
    "        axis.text = element_text(size = 9), \n",
    "        axis.text.x = element_text(color = \"gray20\"),\n",
    "        axis.text.y = element_text(color = \"gray20\"),\n",
    "        axis.line = element_line(linetype = \"solid\", color = \"gray20\"),\n",
    "        legend.position=\"right\", \n",
    "        panel.grid.major = element_line(linetype = \"solid\", color = \"gray80\"), \n",
    "        panel.grid.minor = element_blank(),\n",
    "        \n",
    ")\n",
    "p"
   ]
  },
  {
   "cell_type": "code",
   "execution_count": 39,
   "metadata": {},
   "outputs": [
    {
     "name": "stdout",
     "output_type": "stream",
     "text": [
      "\u001b[90m# A tibble: 33 x 4\u001b[39m\n",
      "\u001b[90m# Groups:   country, food_category, consumption [33]\u001b[39m\n",
      "   country food_category            consumption co2_emmission\n",
      "   \u001b[3m\u001b[90m<chr>\u001b[39m\u001b[23m   \u001b[3m\u001b[90m<chr>\u001b[39m\u001b[23m                          \u001b[3m\u001b[90m<dbl>\u001b[39m\u001b[23m         \u001b[3m\u001b[90m<dbl>\u001b[39m\u001b[23m\n",
      "\u001b[90m 1\u001b[39m Sweden  Pork                           37           131.  \n",
      "\u001b[90m 2\u001b[39m Sweden  Poultry                        16.6          17.9 \n",
      "\u001b[90m 3\u001b[39m Sweden  Beef                           24.6         758.  \n",
      "\u001b[90m 4\u001b[39m Sweden  Lamb & Goat                     1.41         49.4 \n",
      "\u001b[90m 5\u001b[39m Sweden  Fish                           23.9          38.1 \n",
      "\u001b[90m 6\u001b[39m Sweden  Eggs                           13.4          12.3 \n",
      "\u001b[90m 7\u001b[39m Sweden  Milk - inc. cheese            341.          486.  \n",
      "\u001b[90m 8\u001b[39m Sweden  Wheat and Wheat Products       79.6          15.2 \n",
      "\u001b[90m 9\u001b[39m Sweden  Rice                            5.96          7.63\n",
      "\u001b[90m10\u001b[39m Sweden  Soybeans                        0.13          0.06\n",
      "\u001b[90m# … with 23 more rows\u001b[39m\n"
     ]
    }
   ],
   "source": [
    "finland <- food %>%\n",
    "   filter(country %in% c('Finland', 'Netherlands','Sweden' ))%>%\n",
    "   group_by(country,food_category,consumption)\n",
    "finland %>% print"
   ]
  },
  {
   "cell_type": "code",
   "execution_count": null,
   "metadata": {},
   "outputs": [],
   "source": []
  },
  {
   "cell_type": "code",
   "execution_count": null,
   "metadata": {
    "scrolled": true
   },
   "outputs": [],
   "source": [
    "p = ggplot(finland, aes(x = \"\", y = consumption, fill =food_category ))+\n",
    "    geom_bar(stat=\"identity\", width=1, color=\"white\") +\n",
    "    coord_polar(\"y\", start=0)\n",
    "\n",
    "p = p + facet_wrap(~country, scales = \"fixed\", ncol = 3)\n",
    "\n",
    "p = p + labs(\n",
    "        title = \"Proportion of milk consumption\",\n",
    "        subtitle =\"Finland,Netherlands,Sweden\",\n",
    "        x = element_blank(),\n",
    "        y = element_blank()\n",
    ")\n",
    "\n",
    "p = p + theme(\n",
    "        plot.title = element_text(color = \"gray20\", face = \"bold\"),\n",
    "        title = element_text(size = 14), \n",
    "        plot.background = element_rect(fill = 'white'),\n",
    "        panel.background = element_rect(fill = 'white'),\n",
    "        strip.background = element_rect('white'),\n",
    "        strip.text.x = element_text(color = \"gray20\",face = \"bold\"),\n",
    "        axis.line = element_blank(),\n",
    "        legend.position=\"right\", \n",
    "        panel.grid.major = element_line(linetype = \"solid\", color = \"gray80\"), \n",
    "        panel.grid.minor = element_line(linetype = \"solid\", color = \"gray80\"),\n",
    "        \n",
    ")\n",
    "p"
   ]
  }
 ],
 "metadata": {
  "kernelspec": {
   "display_name": "R",
   "language": "R",
   "name": "ir"
  },
  "language_info": {
   "codemirror_mode": "r",
   "file_extension": ".r",
   "mimetype": "text/x-r-source",
   "name": "R",
   "pygments_lexer": "r",
   "version": "4.0.0"
  }
 },
 "nbformat": 4,
 "nbformat_minor": 4
}
